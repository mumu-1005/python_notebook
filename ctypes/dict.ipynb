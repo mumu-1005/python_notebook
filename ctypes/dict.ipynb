{
 "cells": [
  {
   "cell_type": "markdown",
   "metadata": {},
   "source": [
    "[toc]"
   ]
  },
  {
   "cell_type": "markdown",
   "metadata": {},
   "source": [
    "### dict 结构体定义\n",
    "```C\n",
    "typedef struct {\n",
    "    PyObject_HEAD\n",
    "\n",
    "    /* Number of items in the dictionary */\n",
    "    Py_ssize_t ma_used;\n",
    "\n",
    "    /* Dictionary version: globally unique, value change each time\n",
    "       the dictionary is modified */\n",
    "    uint64_t ma_version_tag;\n",
    "\n",
    "    PyDictKeysObject *ma_keys;\n",
    "\n",
    "    /* If ma_values is NULL, the table is \"combined\": keys and values\n",
    "       are stored in ma_keys.\n",
    "       If ma_values is not NULL, the table is split:\n",
    "       keys are stored in ma_keys and values are stored in ma_values */\n",
    "    PyDictValues *ma_values;\n",
    "} PyDictObject;\n",
    "```"
   ]
  },
  {
   "cell_type": "markdown",
   "metadata": {},
   "source": [
    "### defaultdict\n",
    "```python\n",
    "def __missing__(self, key)\n",
    "\n",
    "```"
   ]
  },
  {
   "cell_type": "markdown",
   "metadata": {},
   "source": [
    "### defaultdict vs dict\n"
   ]
  },
  {
   "cell_type": "code",
   "execution_count": 1,
   "metadata": {},
   "outputs": [
    {
     "name": "stdout",
     "output_type": "stream",
     "text": [
      "(<class 'dict'>, 1)\n"
     ]
    },
    {
     "ename": "KeyError",
     "evalue": "'custom_dict'",
     "output_type": "error",
     "traceback": [
      "\u001b[0;31m---------------------------------------------------------------------------\u001b[0m",
      "\u001b[0;31mKeyError\u001b[0m                                  Traceback (most recent call last)",
      "\u001b[1;32m/Users/mumu/Dev/project/mumu/python_notebook/ctypes/dict.ipynb Cell 5\u001b[0m in \u001b[0;36m<cell line: 4>\u001b[0;34m()\u001b[0m\n\u001b[1;32m      <a href='vscode-notebook-cell:/Users/mumu/Dev/project/mumu/python_notebook/ctypes/dict.ipynb#X11sZmlsZQ%3D%3D?line=1'>2</a>\u001b[0m dict_data\u001b[39m.\u001b[39mupdate({\u001b[39m'\u001b[39m\u001b[39mdict\u001b[39m\u001b[39m'\u001b[39m: \u001b[39m1\u001b[39m, \u001b[39m'\u001b[39m\u001b[39mdefault_dict\u001b[39m\u001b[39m'\u001b[39m: \u001b[39m2\u001b[39m, \u001b[39m'\u001b[39m\u001b[39mordered_dict\u001b[39m\u001b[39m'\u001b[39m: \u001b[39m3\u001b[39m, \u001b[39m'\u001b[39m\u001b[39muser_dict\u001b[39m\u001b[39m'\u001b[39m: \u001b[39m4\u001b[39m})\n\u001b[1;32m      <a href='vscode-notebook-cell:/Users/mumu/Dev/project/mumu/python_notebook/ctypes/dict.ipynb#X11sZmlsZQ%3D%3D?line=2'>3</a>\u001b[0m \u001b[39mprint\u001b[39m((\u001b[39mtype\u001b[39m(dict_data), dict_data[\u001b[39m'\u001b[39m\u001b[39mdict\u001b[39m\u001b[39m'\u001b[39m],))\n\u001b[0;32m----> <a href='vscode-notebook-cell:/Users/mumu/Dev/project/mumu/python_notebook/ctypes/dict.ipynb#X11sZmlsZQ%3D%3D?line=3'>4</a>\u001b[0m dict_data[\u001b[39m'\u001b[39;49m\u001b[39mcustom_dict\u001b[39;49m\u001b[39m'\u001b[39;49m]\n",
      "\u001b[0;31mKeyError\u001b[0m: 'custom_dict'"
     ]
    }
   ],
   "source": [
    "dict_data = dict()\n",
    "dict_data.update({'dict': 1, 'default_dict': 2, 'ordered_dict': 3, 'user_dict': 4})\n",
    "print((type(dict_data), dict_data['dict'],))\n",
    "dict_data['custom_dict']  # 当key不存在时, KeyError"
   ]
  },
  {
   "cell_type": "code",
   "execution_count": 2,
   "metadata": {},
   "outputs": [
    {
     "data": {
      "text/plain": [
       "(collections.defaultdict, 1, 0)"
      ]
     },
     "execution_count": 2,
     "metadata": {},
     "output_type": "execute_result"
    }
   ],
   "source": [
    "import collections\n",
    "\n",
    "defaultdict_data = collections.defaultdict(int)\n",
    "defaultdict_data.update({'dict': 1, 'default_dict': 2, 'ordered_dict': 3, 'user_dict': 4})\n",
    "\n",
    "type(defaultdict_data), defaultdict_data['dict'], defaultdict_data['custom_dict']  # 当key不存在时, 返回默认值"
   ]
  },
  {
   "cell_type": "markdown",
   "metadata": {},
   "source": [
    "### ordereddict"
   ]
  },
  {
   "cell_type": "markdown",
   "metadata": {},
   "source": [
    "### userdict"
   ]
  },
  {
   "cell_type": "code",
   "execution_count": null,
   "metadata": {},
   "outputs": [],
   "source": []
  }
 ],
 "metadata": {
  "kernelspec": {
   "display_name": "Python 3.8.12 ('finalfrontier-thermod-ZOssOnUZ-py3.8')",
   "language": "python",
   "name": "python3"
  },
  "language_info": {
   "codemirror_mode": {
    "name": "ipython",
    "version": 3
   },
   "file_extension": ".py",
   "mimetype": "text/x-python",
   "name": "python",
   "nbconvert_exporter": "python",
   "pygments_lexer": "ipython3",
   "version": "3.8.12"
  },
  "orig_nbformat": 4,
  "vscode": {
   "interpreter": {
    "hash": "215a27bdf371b6cb4615def8767403c4c52de4b5ebd4d9f4abe814c35119f0bf"
   }
  }
 },
 "nbformat": 4,
 "nbformat_minor": 2
}
